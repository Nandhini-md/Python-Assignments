{
 "cells": [
  {
   "attachments": {},
   "cell_type": "markdown",
   "id": "b2ed1857",
   "metadata": {},
   "source": [
    "Q1. What is the purpose of Python's OOP?\n",
    "Ans : \n",
    "\t--> We can reuse of code through inheritance which enables faster development.\n",
    "\t--> The reusing of code will reduce the cost of development.\n",
    "\t--> Oops tends to result in higher-quality software.\n",
    "\t--> Flexibility through polymorphism.\n",
    "    --> High security with the help of data hiding through encapsulation and abstraction mechanism."
   ]
  },
  {
   "cell_type": "markdown",
   "id": "662272e2",
   "metadata": {},
   "source": [
    "Q2. Where does an inheritance search look for an attribute?\n",
    "Ans : Python climbs an inheriting tree(namespace tree) looking for attributes that is being requested to be read from an object. It will check the in the instance, within class then parent class and lastly from the grandparent class. "
   ]
  },
  {
   "cell_type": "markdown",
   "id": "fd71167d",
   "metadata": {},
   "source": [
    "Q3. How do you distinguish between a class object and an instance object?\n",
    "Ans :  A class is blueprint/design of an object where as objects are instances of a class."
   ]
  },
  {
   "cell_type": "markdown",
   "id": "617776c0",
   "metadata": {},
   "source": [
    "Q4. What makes the first argument in a class’s method function special?\n",
    "Ans : Generally, when we call a method with some arguments, the corresponding class function is called by placing the method's object before the first argument. So, anything like obj.meth(args) becomes Class.meth(obj, args). The calling process is automatic while the receiving process is not (its explicit). Self is the first argument in a class's method. "
   ]
  },
  {
   "cell_type": "markdown",
   "id": "5c68864d",
   "metadata": {},
   "source": [
    "Q5. What is the purpose of the init method?\n",
    "Ans : It is used to initialize the data when an object is created."
   ]
  },
  {
   "cell_type": "markdown",
   "id": "efe23069",
   "metadata": {},
   "source": [
    "Q6. What is the process for creating a class instance?\n",
    "Ans: To create a instance of a class we need to call the class using class name and pass whatever arguments that __init__ method would accepts"
   ]
  },
  {
   "cell_type": "markdown",
   "id": "0dfcd1ff",
   "metadata": {},
   "source": [
    "Q7. What is the process for creating a class?\n",
    "Ans: To create a class we need to use class keyword followed by any class name and then ' : '\n",
    "     class class_name :\n",
    "            -------------\n",
    "            -------------"
   ]
  },
  {
   "cell_type": "markdown",
   "id": "f0db69ee",
   "metadata": {},
   "source": [
    "Q8. How would you define the superclasses of a class?\n",
    "Ans :  The class whose properties got inherited by another class is called a superclass.\n",
    " class A:\n",
    "\t def swap(self):\n",
    "\t\t--------\n",
    "\t\t--------\n",
    "class B(A):\n",
    "\tdef swap2(self):\n",
    "\t\t--------\n",
    "\t\t--------\n",
    "\t\n",
    "Here class A is superclass. And B is inheriting the properties of class A."
   ]
  },
  {
   "cell_type": "markdown",
   "id": "5a760f85",
   "metadata": {},
   "source": [
    "Q9. What is the relationship between classes and modules?\n",
    "Ans: Modules are the collection of methods where as classes are the blueprint of an object."
   ]
  },
  {
   "cell_type": "markdown",
   "id": "d722fb6f",
   "metadata": {},
   "source": [
    "Q10. How do you make instances and classes?\n",
    "Ans:   To create a class we need to use class keyword followed by any class name and then ' : ' and to create a instance of a class we need to call the class using class name.\n",
    " class class_name : --> class creation.\n",
    "\t-------------\n",
    "\t-------------\n",
    "\t\n",
    "C1=class_name() --> instance creation"
   ]
  },
  {
   "cell_type": "markdown",
   "id": "a75119a0",
   "metadata": {},
   "source": [
    "Q11. Where and how should be class attributes created?\n",
    "Ans: \n",
    "A class attribute is shared by all instances of the class. To define a class attribute, you place it outside of the __init__() method.\n",
    "To define a class attribute, you place it outside of the __init__() method\n",
    "\n",
    " \n",
    " class A:\n",
    "\t wheels=4                         --> class attribute\n",
    "\t def car_features(self):\n",
    "\t\t--------\n",
    "\t\t--------\n",
    "C1=A()"
   ]
  },
  {
   "attachments": {},
   "cell_type": "markdown",
   "id": "386d673b",
   "metadata": {},
   "source": [
    "Q12. Where and how are instance attributes created?\n",
    "Ans : Instance attributes are defined in the __init__() function.\n",
    " class A:\n",
    "\t wheels=4                        \n",
    "\t def __init__(self):\n",
    "\t\t self.color=\"Black\"           \n",
    "\t\t self.price=\"1000000\"\n",
    "C1=A()\n",
    "Here color and price are the instance attributes "
   ]
  },
  {
   "cell_type": "markdown",
   "id": "0eda43ae",
   "metadata": {},
   "source": [
    "Q13. What does the term \"self\" in a Python class mean?\n",
    "Ans : Self is the first argument in a class's method. The reason you need to use self is, it is used to refer the current instance so there is no need to use the @ syntax to refer to instance attributes."
   ]
  },
  {
   "attachments": {},
   "cell_type": "markdown",
   "id": "68f6e400",
   "metadata": {},
   "source": [
    "Q14. How does a Python class handle operator overloading?\n",
    "Ans :  when we have two objects which are the physical representation of a user-defined data type class. Now if we want to add those 2 operators it throughs an error. This is because the compiler does not know how to add two objects. So, the user has to define the function for using the operator, and that process is known as \"operator overloading\".\n",
    "The operator overloading in Python means provide extended meaning beyond their predefined operational meaning.\n",
    "In short, overloads built-in functions and operators with your custom."
   ]
  },
  {
   "cell_type": "markdown",
   "id": "5022669a",
   "metadata": {},
   "source": [
    "Q15. When do you consider allowing operator overloading of your classes?\n",
    "Ans: We get some errors when we perform some operations on user defined data type class, . In that scenario, we consider operator overloading of a class"
   ]
  },
  {
   "cell_type": "code",
   "execution_count": 1,
   "id": "07fca821",
   "metadata": {},
   "outputs": [
    {
     "name": "stdout",
     "output_type": "stream",
     "text": [
      "20\n"
     ]
    }
   ],
   "source": [
    "# Q16. What is the most popular form of operator overloading?\n",
    "# Ans: The most popular form of operator overloading is the Addition(+) operator.\n",
    "\n",
    "class student:\n",
    "    def __init__(self, m1):\n",
    "        self.m1 = m1\n",
    "    def __add__(self, other):  \n",
    "        return (self.m1+other.m1)\n",
    "s1=student(10)\n",
    "s2=student(10)\n",
    "s3=s1+s2\n",
    "print(s3)"
   ]
  },
  {
   "cell_type": "markdown",
   "id": "eb94d132",
   "metadata": {},
   "source": [
    "Q17. What are the two most important concepts to grasp in order to comprehend Python OOP code?\n",
    "Ans : Inheritance and Polymorphism"
   ]
  },
  {
   "cell_type": "markdown",
   "id": "380136c8",
   "metadata": {},
   "source": [
    "Q18. Describe three applications for exception processing.\n",
    "Ans : division by zero, index out of list,Addition of two incompatible types"
   ]
  },
  {
   "cell_type": "markdown",
   "id": "487ad797",
   "metadata": {},
   "source": [
    "Q19. What happens if you don't do something extra to treat an exception?\n",
    "Ans: if expectation is not handled the program terminates and the code post that will not get executed."
   ]
  },
  {
   "cell_type": "markdown",
   "id": "326d5efb",
   "metadata": {},
   "source": [
    "Q20. What are your options for recovering from an exception in your script?\n",
    "Ans: For recovering from an exception it is better to use  try/except structure at first. Or else when you get an error, it will break all the loops."
   ]
  },
  {
   "cell_type": "markdown",
   "id": "28162d56",
   "metadata": {},
   "source": [
    "Q21. Describe two methods for triggering exceptions in your script.\n",
    "Ans : the two methods are \n",
    "Try – This catches the exceptions raised by the program\n",
    "Raise – Triggers an exception manually using custom excep"
   ]
  },
  {
   "cell_type": "markdown",
   "id": "b2ed797f",
   "metadata": {},
   "source": [
    "Q22. Identify two methods for specifying actions to be executed at termination time, regardless of whether or not an exception exists.\n",
    "Ans : Finally and else\n",
    "Finally block always executes irrespective of an exception being thrown or not. The final keyword allows you to create a block of code that follows a try-catch block.\n",
    "Finally, clause is optional. It is intended to define clean-up actions which should be that executed in all conditions.\n",
    "The else clause is used to execute code when the program does not raise an exception."
   ]
  },
  {
   "cell_type": "markdown",
   "id": "7136a651",
   "metadata": {},
   "source": [
    "Q23. What is the purpose of the try statement?\n",
    "Ans : it lets us test a block of code for errors. "
   ]
  },
  {
   "cell_type": "markdown",
   "id": "a15b2a5a",
   "metadata": {},
   "source": [
    "Q24. What are the two most popular try statement variations?\n",
    "Ans : the two most popular try statement variations are:\n",
    "Try/Except/Else and Try/Except/Finally"
   ]
  },
  {
   "cell_type": "markdown",
   "id": "f1ff8750",
   "metadata": {},
   "source": [
    "Q25. What is the purpose of the raise statement?\n",
    "Ans: Raise Keyword is used to raise exceptions or errors which stops the control flow of the program."
   ]
  },
  {
   "cell_type": "markdown",
   "id": "8dddebdf",
   "metadata": {},
   "source": [
    "Q26. What does the assert statement do, and what other statement is it like?\n",
    "Ans: \n",
    "The assert keyword lets you test if a condition in your code returns True, if not, the program will raise an AssertionError.\n",
    "other statement  like assert is to use raise and a specific exception"
   ]
  },
  {
   "cell_type": "markdown",
   "id": "eaf12478",
   "metadata": {},
   "source": [
    "Q27. What is the purpose of the with/as argument, and what other statement is it like?\n",
    "Ans :The with statement in Python is a quite useful tool for properly managing external resources in your programs.\n",
    "The cleanup code in the finally clause will always be excecuted, whether an exception is raised, or not.\n"
   ]
  },
  {
   "cell_type": "markdown",
   "id": "18e3cd26",
   "metadata": {},
   "source": [
    "Q28. What are *args, **kwargs?\n",
    "Ans : \n",
    "*args allows us to pass a variable number of non-keyword arguments to a Python function. \n",
    "\n",
    "**kwargs allows us to pass a variable number of keyword arguments to a Python function"
   ]
  },
  {
   "cell_type": "markdown",
   "id": "ab4846db",
   "metadata": {},
   "source": [
    "Q29. How can I pass optional or keyword parameters from one function to another?\n",
    "Ans: To pass optional or keyword parameters from one function to another, collect the arguments using the * and ** specifiers in the function’s parameter list "
   ]
  },
  {
   "cell_type": "markdown",
   "id": "38f66298",
   "metadata": {},
   "source": [
    "Q30. What are Lambda Functions?\n",
    "Ans: \n",
    "the lambda keyword is used to define an anonymous function or a function having no name in Python. \n",
    "Syntax:\n",
    "lambda arguments: expression"
   ]
  },
  {
   "cell_type": "markdown",
   "id": "bca18b39",
   "metadata": {},
   "source": [
    "Q31. Explain Inheritance in Python with an example?\n",
    "Ans :  \n",
    "The class whose properties got inherited by another class is called a superclass.\n",
    " class A:\n",
    "\t def swap(self):\n",
    "\t\t--------\n",
    "\t\t--------\n",
    "class B(A):\n",
    "\tdef swap2(self):\n",
    "\t\t--------\n",
    "\t\t--------\n",
    "\t\n",
    "Here class A is superclass. And B is inheriting the properties of class A.\n"
   ]
  },
  {
   "cell_type": "markdown",
   "id": "8af62842",
   "metadata": {},
   "source": [
    "Q32. Suppose class C inherits from classes A and B as class C(A,B).Classes A and B both have their own versions of method func(). If we call func() from an object of class C, which version gets invoked?\n",
    "Ans :  As per the method resolution order. Class A will get invoked\n",
    " class A:\n",
    "\t def func(self):\n",
    "\t\tPrint(\"A class\")\n",
    "class B:\n",
    "\tdef func(self):\n",
    "\t\tPrint(\"B class\")\n",
    "\t\t\n",
    "class c(A,B):\n",
    "\t def __init__(self):\n",
    "\t\t super().__init__()\n",
    "\t\tPrint(\"C class\")\n",
    "\t\t\n",
    "\n",
    "A1=c()\n",
    "\n",
    "o/p: A class\n",
    "        C class"
   ]
  },
  {
   "cell_type": "markdown",
   "id": "4c1b99ef",
   "metadata": {},
   "source": [
    "Q33. Which methods/functions do we use to determine the type of instance and inheritance?\n",
    "isinstance() and issubclass()\n",
    "The isinstance() method checks whether an object is an instance of a class whereas issubclass() method asks whether one class is a subclass of another class (or other classes).\n"
   ]
  },
  {
   "cell_type": "markdown",
   "id": "8a8217eb",
   "metadata": {},
   "source": [
    "Q34.Explain the use of the 'nonlocal' keyword in Python.\n",
    "The nonlocal keyword is used in nested functions to reference a variable in the parent function. \n",
    "\n",
    "def x():\n",
    "    a = 2\n",
    "    \n",
    "    # Nested Function\n",
    "    def y():\n",
    "        nonlocal a\n",
    "        a = 1\n",
    "    print (a)\n",
    "\n",
    "O/p is 1\n",
    "--> It helps in accessing the variable in the upper scope.\n",
    "-->Since the referenced variable is reused, the memory address of the variable is also reused and therefore it saves memory."
   ]
  },
  {
   "cell_type": "markdown",
   "id": "ff56de88",
   "metadata": {},
   "source": [
    "Q35. What is the global keyword?\n",
    "\n",
    "the global keyword allows us to modify the variable outside of the current scope."
   ]
  }
 ],
 "metadata": {
  "kernelspec": {
   "display_name": "Python 3 (ipykernel)",
   "language": "python",
   "name": "python3"
  },
  "language_info": {
   "codemirror_mode": {
    "name": "ipython",
    "version": 3
   },
   "file_extension": ".py",
   "mimetype": "text/x-python",
   "name": "python",
   "nbconvert_exporter": "python",
   "pygments_lexer": "ipython3",
   "version": "3.9.12"
  }
 },
 "nbformat": 4,
 "nbformat_minor": 5
}
