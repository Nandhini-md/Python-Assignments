{
 "cells": [
  {
   "cell_type": "markdown",
   "id": "97d1bb49",
   "metadata": {},
   "source": [
    "Q26. What is a string? How can we declare string in Python?\n",
    "\n",
    "Ans: A string is a collection of characters. We can declare by enclosing sequence of characters using single quote or double quote or triple quote and then we can assign that to a variable."
   ]
  },
  {
   "cell_type": "markdown",
   "id": "caf2c837",
   "metadata": {},
   "source": [
    "Q27. How can we access the string using its index?\n",
    "\n",
    "Ans: We can access a string by referring its index number which is enclosed by '[ ]' (square bracket)."
   ]
  },
  {
   "cell_type": "code",
   "execution_count": 3,
   "id": "27fcf1a7",
   "metadata": {
    "scrolled": true
   },
   "outputs": [
    {
     "name": "stdout",
     "output_type": "stream",
     "text": [
      "iNeuron\n"
     ]
    }
   ],
   "source": [
    "#Q28. Write a code to get the desired output of the following\n",
    "string = \"Big Data iNeuron\"\n",
    "#desired_output = \"iNeuron\"\n",
    "print(string[9:])"
   ]
  },
  {
   "cell_type": "code",
   "execution_count": 4,
   "id": "4e36d6e1",
   "metadata": {},
   "outputs": [
    {
     "name": "stdout",
     "output_type": "stream",
     "text": [
      "norueNi\n"
     ]
    }
   ],
   "source": [
    "#Q29.Write a code to get the desired output of the following\n",
    "string = \"Big Data iNeuron\"\n",
    "#desired_output = \"norueNi\"\n",
    "print(string[-1:-8:-1])"
   ]
  },
  {
   "cell_type": "code",
   "execution_count": 5,
   "id": "5082e8ed",
   "metadata": {},
   "outputs": [
    {
     "name": "stdout",
     "output_type": "stream",
     "text": [
      "norueNi ataD giB\n"
     ]
    }
   ],
   "source": [
    "#Q30. Resverse the string given in the above question.\n",
    "string = \"Big Data iNeuron\"\n",
    "print(string[-1::-1])"
   ]
  },
  {
   "cell_type": "code",
   "execution_count": 6,
   "id": "91d84142",
   "metadata": {},
   "outputs": [
    {
     "name": "stdout",
     "output_type": "stream",
     "text": [
      "\n"
     ]
    }
   ],
   "source": [
    "Q31. How can you delete entire string at once?\n",
    "my_str=\"hello\"\n",
    "print(my_str.translate({ord(i): None for i in my_str}))"
   ]
  },
  {
   "cell_type": "markdown",
   "id": "61106eb9",
   "metadata": {},
   "source": [
    "Q32. What is escape sequence?\n",
    "\n",
    "Ans: An escape sequence allows us to include special characters in strings. For this we need to add a backslash(\\) before the character we need to escape."
   ]
  },
  {
   "cell_type": "code",
   "execution_count": 7,
   "id": "49e012e9",
   "metadata": {},
   "outputs": [
    {
     "name": "stdout",
     "output_type": "stream",
     "text": [
      "iNeuron's Big Data Course\n"
     ]
    }
   ],
   "source": [
    "#Q33. How can you print the below string?\n",
    "#'iNeuron's Big Data Course'\n",
    "str1='iNeuron\\'s Big Data Course'\n",
    "print(str1)"
   ]
  },
  {
   "cell_type": "markdown",
   "id": "dcc3893a",
   "metadata": {},
   "source": [
    "Q34. What is a list in Python?\n",
    "\n",
    "Ans: List is a data type in python which is used to store various types of data in sequence."
   ]
  },
  {
   "cell_type": "markdown",
   "id": "77028d58",
   "metadata": {},
   "source": [
    "Q35. How can you create a list in Python?\n",
    "\n",
    "Ans: Python list is created by placing elements in a '[]'(square bracket).\n",
    "And the elements inside the '[]' are separated by comma(',')"
   ]
  },
  {
   "cell_type": "markdown",
   "id": "2763370e",
   "metadata": {},
   "source": [
    "Q36. How can we access the elements in a list?\n",
    "\n",
    "Ans : We can access the elements in a list by referring its index number which is enclosed by '[ ]' (square bracket)."
   ]
  },
  {
   "cell_type": "code",
   "execution_count": 8,
   "id": "ce6ab960",
   "metadata": {},
   "outputs": [
    {
     "name": "stdout",
     "output_type": "stream",
     "text": [
      "iNeuron\n"
     ]
    }
   ],
   "source": [
    "#Q37. Write a code to access the word \"iNeuron\" from the given list.\n",
    "lst = [1,2,3,\"Hi\",[45,54, \"iNeuron\"], \"Big Data\"]\n",
    "print(lst[4][2])"
   ]
  },
  {
   "cell_type": "code",
   "execution_count": 9,
   "id": "f18d0df4",
   "metadata": {},
   "outputs": [
    {
     "name": "stdout",
     "output_type": "stream",
     "text": [
      "Enter the size of the list : 2\n",
      "enter element 0 - 1\n",
      "enter element 1 - python\n",
      "['1', 'python']\n"
     ]
    }
   ],
   "source": [
    "#Q38. Take a list as an input from the user and find the length of the list.\n",
    "lst=[]\n",
    "size=int(input(\"Enter the size of the list : \"))\n",
    "for i in range(size):\n",
    "    new=input(\"enter element {} - \".format(i))\n",
    "    lst.append(new)\n",
    "print(lst)"
   ]
  },
  {
   "cell_type": "code",
   "execution_count": 10,
   "id": "6d58236c",
   "metadata": {},
   "outputs": [
    {
     "name": "stdout",
     "output_type": "stream",
     "text": [
      "['Welcome', 'to', 'Big', 'Data', 'course']\n"
     ]
    }
   ],
   "source": [
    "#Q39. Add the word \"Big\" in the 3rd index of the given list.\n",
    "lst = [\"Welcome\", \"to\", \"Data\", \"course\"]\n",
    "lst.insert(2, \"Big\")\n",
    "print(lst)"
   ]
  },
  {
   "cell_type": "markdown",
   "id": "2e035359",
   "metadata": {},
   "source": [
    "Q40. What is a tuple? How is it different from list?\n",
    "\n",
    "Ans: A tuple is used to store different data in a single variable.  Tuples are ordered and unchangeable.\n",
    "Tuples are immutable where  as lists are mutable."
   ]
  },
  {
   "cell_type": "markdown",
   "id": "d4d854c6",
   "metadata": {},
   "source": [
    "Q41. How can you create a tuple in Python?\n",
    "\n",
    "Ans: Python tuple is created by placing elements in a '()'(round bracket).And the elements inside the '()' are separated by comma(',')\n"
   ]
  },
  {
   "cell_type": "markdown",
   "id": "e79626f5",
   "metadata": {},
   "source": [
    "Q42. Create a tuple and try to add your name in the tuple. Are you able to do it? Support your answer with reason.\n",
    "\n",
    "Ans: there are two possibilties. one is with existing tuple and another one is with empty tuple\n",
    "\n",
    "No, we cannot add in an existing tuple. As tuples are immutable.\n",
    "tup=(1,2,3)\n",
    "tup[2]=(\"nandhini\")\n",
    "print(tup)\n",
    "\n",
    "Yes, we can add name in an empty tuple.\n",
    "tup=()\n",
    "tup=(\"nandhini\")\n",
    "print(tup)"
   ]
  },
  {
   "cell_type": "markdown",
   "id": "d7ffaa15",
   "metadata": {},
   "source": [
    "Q43. Can two tuple be appended. If yes, write a code for it. If not, why?\n",
    "\n",
    "Ans: we can't add elements to a tuple. Tuples are immutable . There is no append() or extend() method for tuples."
   ]
  },
  {
   "cell_type": "code",
   "execution_count": 11,
   "id": "f93c9250",
   "metadata": {},
   "outputs": [
    {
     "name": "stdout",
     "output_type": "stream",
     "text": [
      "3\n"
     ]
    }
   ],
   "source": [
    "#Q44. Take a tuple as an input and print the count of elements in it.\n",
    "\n",
    "tup=(\"bigdata\",1,\"python\")\n",
    "print(len(tup))"
   ]
  },
  {
   "cell_type": "markdown",
   "id": "7c63296f",
   "metadata": {},
   "source": [
    "Q45. What are sets in Python?\n",
    "\n",
    "Ans: Set is an unordered collection of data types and it can store multiple elements in a single variable.it is mutable, itretable and has no duplicate elements."
   ]
  },
  {
   "cell_type": "markdown",
   "id": "173d90ce",
   "metadata": {},
   "source": [
    "Q46. How can you create a set?\n",
    "\n",
    "Ans: Python set is created by placing elements in a '{}'(curly bracket).And the elements inside the '{}' are separated by comma(',')"
   ]
  },
  {
   "cell_type": "code",
   "execution_count": 16,
   "id": "b0d65632",
   "metadata": {},
   "outputs": [
    {
     "name": "stdout",
     "output_type": "stream",
     "text": [
      "{'iNeuron'}\n",
      "{1, 'iNeuron', 'bat', 'cat'}\n"
     ]
    }
   ],
   "source": [
    "#Q47. Create a set and add \"iNeuron\" in your set.\n",
    "set1=()\n",
    "set1={\"iNeuron\"} \n",
    "print(set1) #adding \"iNeuron\" to an empty set\n",
    "set2={1,\"bat\",\"cat\"}\n",
    "set2.add(\"iNeuron\")\n",
    "print(set2)#adding \"iNeuron\" to an existing set"
   ]
  },
  {
   "cell_type": "code",
   "execution_count": 19,
   "id": "c4ac8cf5",
   "metadata": {},
   "outputs": [
    {
     "name": "stdout",
     "output_type": "stream",
     "text": [
      "{1, 'iNeuron', 'bat', 'gate', 'cat', 'python'}\n"
     ]
    }
   ],
   "source": [
    "#Q48. Try to add multiple values using add() function.\n",
    "\n",
    "set2={1,\"bat\",\"cat\"}\n",
    "set2.add(\"iNeuron\")\n",
    "set2.add(\"gate\")\n",
    "set2.add(\"python\")\n",
    "print(set2)"
   ]
  },
  {
   "cell_type": "markdown",
   "id": "f6bdf773",
   "metadata": {},
   "source": [
    "Q49. How is update() different from add()?\n",
    "\n",
    "Ans: the add() method is to add single value to a set. We use update() method to add sequence values to a set"
   ]
  },
  {
   "cell_type": "markdown",
   "id": "3ca7febb",
   "metadata": {},
   "source": [
    "Q50. What is clear() in sets?\n",
    "\n",
    "Ans: The clear() method removes all elements in a set"
   ]
  },
  {
   "cell_type": "markdown",
   "id": "e2a51919",
   "metadata": {},
   "source": [
    "Q51. What is frozen set?\n",
    "Ans: Frozen sets are immutable sets. It takes an iterable and returns an object that is unchangeable."
   ]
  },
  {
   "cell_type": "markdown",
   "id": "39166455",
   "metadata": {},
   "source": [
    "Q52. How is frozen set different from set?\n",
    "\n",
    "Ans: Frozen set are immutable sets. Where as set are mutable where we can modify the elements inside the set at any time."
   ]
  },
  {
   "cell_type": "code",
   "execution_count": 20,
   "id": "3ad0e830",
   "metadata": {},
   "outputs": [
    {
     "name": "stdout",
     "output_type": "stream",
     "text": [
      "A U B =  {1, 2, 3, 5, 7, 11}\n"
     ]
    }
   ],
   "source": [
    "#Q53. What is union() in sets? Explain via code.\n",
    "#Ans: union() function returns a new set with distinct elements from all the sets.\n",
    "\n",
    "A = {1, 2, 3, 5,7,11}\n",
    "B = {1, 3, 5,7,2}\n",
    "print('A U B = ', A.union(B))"
   ]
  },
  {
   "cell_type": "code",
   "execution_count": 21,
   "id": "7f4e4869",
   "metadata": {},
   "outputs": [
    {
     "name": "stdout",
     "output_type": "stream",
     "text": [
      "{1, 2, 3, 5, 7}\n"
     ]
    }
   ],
   "source": [
    "#Q54. What is intersection() in sets? Explain via code.\n",
    "#Ans :  intersection() function returns a new set with elements that are common to all sets.\n",
    "\n",
    "A = {1, 2, 3, 5,7,11}\n",
    "B = {1, 3, 5,7,2}\n",
    "print(A.intersection(B))"
   ]
  },
  {
   "cell_type": "markdown",
   "id": "9b9d05c9",
   "metadata": {},
   "source": [
    "Q55. What is dictionary ibn Python?\n",
    "\n",
    "Ans: Dictionaries are used to store the data in Key : value pair. Dictionary is a collection which is ordered, changble and doesn't allow duplicates. "
   ]
  },
  {
   "cell_type": "markdown",
   "id": "e0833b5e",
   "metadata": {},
   "source": [
    "Q56. How is dictionary different from all other data structures.\n",
    "\n",
    "Ans: The dictionary is a slightly more compound data structure. It makes use of two elements i.e., a key and a value. While other Data Structures use only one value as the element, "
   ]
  },
  {
   "cell_type": "markdown",
   "id": "02805648",
   "metadata": {},
   "source": [
    "Q57. How can we delare a dictionary in Python?\n",
    "\n",
    "Ans: A dictionary can be declared by placing a sequence of elements within curly {} braces, separated by ‘comma’. \n",
    "Dictionary holds key value pairs, i.e., Key:value."
   ]
  },
  {
   "cell_type": "code",
   "execution_count": 22,
   "id": "401894d8",
   "metadata": {},
   "outputs": [
    {
     "name": "stdout",
     "output_type": "stream",
     "text": [
      "<class 'dict'>\n"
     ]
    }
   ],
   "source": [
    "#Q58. What will the output of the following?\n",
    "var = {}\n",
    "print(type(var))"
   ]
  },
  {
   "cell_type": "code",
   "execution_count": 23,
   "id": "41f85d7e",
   "metadata": {},
   "outputs": [
    {
     "name": "stdout",
     "output_type": "stream",
     "text": [
      "{'train no': '223', 'coach name': 'B1', 'seat no': 2}\n"
     ]
    }
   ],
   "source": [
    "#Q59. How can we add an element in a dictionary?\n",
    "#Ans: \n",
    "Dict1 = {\n",
    "  \"train no\": \"223\",\n",
    "  \"coach name\": \"B1\"\n",
    "}\n",
    "Dict1[\"seat no\"] = 2\n",
    "print(Dict1)\n"
   ]
  },
  {
   "cell_type": "code",
   "execution_count": 24,
   "id": "b1551aef",
   "metadata": {},
   "outputs": [
    {
     "name": "stdout",
     "output_type": "stream",
     "text": [
      "dict_values(['223', 'B1', 2])\n"
     ]
    }
   ],
   "source": [
    "#Q60. Create a dictionary and access all the values in that dictionary.\n",
    "Dict1 = {\n",
    "  \"train no\": \"223\",\n",
    "  \"coach name\": \"B1\",\n",
    "\"seat no\" : 2\n",
    "}\n",
    "\n",
    "print(Dict1.values())"
   ]
  },
  {
   "cell_type": "code",
   "execution_count": 25,
   "id": "cedf919e",
   "metadata": {},
   "outputs": [
    {
     "name": "stdout",
     "output_type": "stream",
     "text": [
      "1\n",
      "2\n"
     ]
    }
   ],
   "source": [
    "#Q61. Create a nested dictionary and access all the element in the inner dictionary.\n",
    "\n",
    "dict2={}\n",
    "dict2['other details']={'cabin no' : 24,'bay details': {'floor no':1,'bay no':2}}\n",
    "print(dict2['other details']['bay details']['floor no'])\n",
    "print(dict2['other details']['bay details']['bay no'])"
   ]
  },
  {
   "cell_type": "markdown",
   "id": "42805ccf",
   "metadata": {},
   "source": [
    "Q62. What is the use of get() function?\n",
    "\n",
    "Ans : The get() function returns the value of the item with the specified key."
   ]
  },
  {
   "cell_type": "markdown",
   "id": "ffc51854",
   "metadata": {},
   "source": [
    "Q63. What is the use of items() function?\n",
    "\n",
    "Ans: items() function is used to return the list with all dictionary keys with values."
   ]
  },
  {
   "cell_type": "markdown",
   "id": "c789bbf6",
   "metadata": {},
   "source": [
    "Q64. What is the use of pop() function?\n",
    "\n",
    "Ans: The pop() function returns the item present at the given index."
   ]
  },
  {
   "cell_type": "markdown",
   "id": "19404585",
   "metadata": {},
   "source": [
    "Q65. What is the use of popitems() function?\n",
    "\n",
    "Ans: The popitem() function removes the element that was last inserted into the dictionary."
   ]
  },
  {
   "cell_type": "markdown",
   "id": "9fc22681",
   "metadata": {},
   "source": [
    "Q66. What is the use of keys() function?\n",
    "\n",
    "Ans: keys() function is used to return a view object that contains a list of all the keys in the dictionary"
   ]
  },
  {
   "cell_type": "markdown",
   "id": "6e6d50e8",
   "metadata": {},
   "source": [
    "Q67. What is the use of values() function?\n",
    "\n",
    "Ans: values() function is used to collect all the values from a dictionary"
   ]
  },
  {
   "cell_type": "markdown",
   "id": "6e00eac1",
   "metadata": {},
   "source": [
    "Q68. What are loops in Python?\n",
    "\n",
    "Ans: Loops are repeating set of block of statements until a particular condition is satisfied"
   ]
  },
  {
   "cell_type": "markdown",
   "id": "77e90093",
   "metadata": {},
   "source": [
    "Q69. How many type of loop are there in Python?\n",
    "\n",
    "Ans: for and while"
   ]
  },
  {
   "cell_type": "markdown",
   "id": "e8aeb06f",
   "metadata": {},
   "source": [
    "Q70. What is the difference between for and while loops?\n",
    "\n",
    "Ans: For loop is used when the number of iterations is known. While loop is used when the number of iterations is Unknown"
   ]
  },
  {
   "cell_type": "markdown",
   "id": "6b636e59",
   "metadata": {},
   "source": [
    "Q71. What is the use of continue statement?\n",
    "\n",
    "Ans: The continue keyword is used to end the current iteration and continues to the next iteration in a loop."
   ]
  },
  {
   "cell_type": "markdown",
   "id": "29be7745",
   "metadata": {},
   "source": [
    "Q72. What is the use of break statement?\n",
    "\n",
    "Ans: break statement terminates the current loop"
   ]
  },
  {
   "cell_type": "markdown",
   "id": "8b204c44",
   "metadata": {},
   "source": [
    "Q73. What is the use of pass statement?\n",
    "\n",
    "Ans: pass statement performs no action and it acts as a placeholder for future code."
   ]
  },
  {
   "cell_type": "markdown",
   "id": "1eb2e94a",
   "metadata": {},
   "source": [
    "Q74. What is the use of range() function?\n",
    "\n",
    "Ans: The range() function returns a sequence of numbers, \n",
    "It's starts from 0 (by default)\n",
    "and increments by 1 (by default), \n",
    "and stops before a specified number"
   ]
  },
  {
   "cell_type": "markdown",
   "id": "6ec00869",
   "metadata": {},
   "source": [
    "Q75. How can you loop over a dictionary?\n",
    "Ans: \n",
    "1)dictionary.keys()\n",
    "\n",
    "2)dictionary.items()\n",
    "\n",
    "3)for key in dt:\n",
    "    print(key, dt[key])"
   ]
  },
  {
   "cell_type": "code",
   "execution_count": 27,
   "id": "e0366746",
   "metadata": {},
   "outputs": [
    {
     "name": "stdout",
     "output_type": "stream",
     "text": [
      "Enter any number to find the factorial : 5\n",
      "120\n"
     ]
    }
   ],
   "source": [
    "#Q76. Write a Python program to find the factorial of a given number.\n",
    "\n",
    "fact=1\n",
    "num=int(input(\"Enter any number to find the factorial : \"))\n",
    "if num==0 or num==1:\n",
    "    print(\"factorail of\",num,\"is 1\")\n",
    "else:\n",
    "    for i in range(1,num+1):\n",
    "        fact=fact*i;\n",
    "    print(fact)"
   ]
  },
  {
   "cell_type": "code",
   "execution_count": 28,
   "id": "d9851a03",
   "metadata": {},
   "outputs": [
    {
     "name": "stdout",
     "output_type": "stream",
     "text": [
      "Enter the Principal Amount :1000\n",
      "Enter the Rate :5\n",
      "Enter the Time Period : 5\n",
      "Simple interest =  250.0\n"
     ]
    }
   ],
   "source": [
    "#Q77. Write a Python program to calculate the simple interest. Formula to calculate simple interest is SI = (PRT)/100\n",
    "\n",
    "\n",
    "def simple_interest(p_amt,rate,time_prd):\n",
    "    SI=(p_amt*rate*time_prd)/100\n",
    "    return SI\n",
    "p_amt=float(input(\"Enter the Principal Amount :\"))\n",
    "rate=float(input(\"Enter the Rate :\"))\n",
    "time_prd=float(input(\"Enter the Time Period : \"))\n",
    "Simple_int=simple_interest(p_amt, rate, time_prd)\n",
    "print(\"Simple interest = \",Simple_int)"
   ]
  },
  {
   "cell_type": "code",
   "execution_count": 29,
   "id": "da7f0e1c",
   "metadata": {},
   "outputs": [
    {
     "name": "stdout",
     "output_type": "stream",
     "text": [
      "Enter the Principal Amount :100000\n",
      "Enter the Rate :5\n",
      "Enter the Time Period : 5\n",
      "Compount amount =  127628.15625000003\n",
      "Compound interest = 27628.15625000003\n"
     ]
    }
   ],
   "source": [
    "#Q78. Write a Python program to calculate the compound interest. Formula of compound interest is A = P(1+ R/100)^t.\n",
    "\n",
    "\n",
    "def ci_int(p_amt,rate,time_prd):\n",
    "    comp_amt=p_amt*((1+(rate/100))**time_prd)\n",
    "    print(\"Compount amount = \",comp_amt)\n",
    "    ci=comp_amt-p_amt\n",
    "    return ci\n",
    "p_amt=float(input(\"Enter the Principal Amount :\"))\n",
    "rate=float(input(\"Enter the Rate :\"))\n",
    "time_prd=float(input(\"Enter the Time Period : \"))\n",
    "comp_int=(ci_int(p_amt,rate,time_prd))\n",
    "print(\"Compound interest =\",comp_int)\n"
   ]
  },
  {
   "cell_type": "code",
   "execution_count": 30,
   "id": "47b9d514",
   "metadata": {},
   "outputs": [
    {
     "name": "stdout",
     "output_type": "stream",
     "text": [
      "Enter any number:5\n",
      "5 is a prime number\n"
     ]
    }
   ],
   "source": [
    "#Q79. Write a Python program to check if a number is prime or not.\n",
    "\n",
    "def prime_number(num):\n",
    "    if num>1:\n",
    "        for i in range(2,num):\n",
    "            if(num%i)==0:\n",
    "                print(num,\"is not prime number\")\n",
    "                break\n",
    "        else:\n",
    "            print(num,\"is a prime number\")\n",
    "    elif num==1:\n",
    "        print(\"1 is a prime number\")\n",
    "pn=int(input(\"Enter any number:\"))    \n",
    "prime_number(pn)"
   ]
  },
  {
   "cell_type": "code",
   "execution_count": 31,
   "id": "2c3f8af7",
   "metadata": {},
   "outputs": [
    {
     "name": "stdout",
     "output_type": "stream",
     "text": [
      "Enter any number: 153\n",
      "153 is an Amstrong number\n"
     ]
    }
   ],
   "source": [
    "#Q80. Write a Python program to check Armstrong Number.\n",
    "\n",
    "def amstrong_number(num,length):\n",
    "    sum=0\n",
    "    x=0\n",
    "    temp=num\n",
    "    while num>0:\n",
    "        x=(num%10)**length\n",
    "        sum=sum+x\n",
    "        num=num//10\n",
    "    if temp==sum:\n",
    "        print(temp, \"is an Amstrong number\")\n",
    "    else:\n",
    "        print(temp, \"is not an Amstrong number\")\n",
    "\n",
    "num=int(input(\"Enter any number: \"))\n",
    "length=len(str(num))\n",
    "amstrong_number(num,length)\n"
   ]
  },
  {
   "cell_type": "code",
   "execution_count": 32,
   "id": "82be6ec3",
   "metadata": {},
   "outputs": [
    {
     "name": "stdout",
     "output_type": "stream",
     "text": [
      "Enter nth(positive) number : 5\n",
      "0 1 1 2 3 "
     ]
    }
   ],
   "source": [
    "#Q81. Write a Python program to find the n-th Fibonacci Number.\n",
    "\n",
    "num_range=int(input(\"Enter nth(positive) number : \"))\n",
    "a=0\n",
    "b=1\n",
    "for i in range(num_range):\n",
    "    print(a,end=\" \")\n",
    "    c=a+b\n",
    "    temp=b\n",
    "    a=b\n",
    "    b=c"
   ]
  },
  {
   "cell_type": "code",
   "execution_count": 33,
   "id": "aee43dc7",
   "metadata": {},
   "outputs": [
    {
     "name": "stdout",
     "output_type": "stream",
     "text": [
      "Before swap : [1, 23, 36, 18]\n",
      "After swap : [18, 23, 36, 1]\n"
     ]
    }
   ],
   "source": [
    "#Q82. Write a Python program to interchange the first and last element in a list.\n",
    "\n",
    "list1=[1,23,36,18]\n",
    "print(\"Before swap :\",list1)\n",
    "lenght=len(list1)\n",
    "temp=list1[0]\n",
    "list1[0]=list1[lenght-1]\n",
    "list1[lenght-1]=temp\n",
    "print(\"After swap :\",list1)"
   ]
  },
  {
   "cell_type": "code",
   "execution_count": 35,
   "id": "dd9db57f",
   "metadata": {},
   "outputs": [
    {
     "name": "stdout",
     "output_type": "stream",
     "text": [
      "enter 2 positions to swap :3 4\n",
      "Before swaping 3 and 4 : [2, 23, 76, 927, 32, 99]\n",
      "After swaping 3 and 4 : [2, 23, 927, 76, 32, 99]\n"
     ]
    }
   ],
   "source": [
    "#Q83. Write a Python program to swap two elements in a list.\n",
    "\n",
    "def swap(list1,p1,p2):\n",
    "    if p2 < len(list1):\n",
    "        print(\"Before swaping {} and {} : {}\".format(p1,p2,list1))\n",
    "        temp=list1[p1-1]\n",
    "        list1[p1-1]=list1[p2-1]\n",
    "        list1[p2-1]=temp\n",
    "        print(\"After swaping {} and {} : {}\".format(p1,p2,list1))\n",
    "    else:\n",
    "        print(\"Range should not exceed {}\".format(len(list1)))\n",
    "p1,p2=map(int, input(\"enter 2 positions to swap :\").split())\n",
    "list1=[2,23,76,927,32,99]\n",
    "swap(list1,p1,p2)"
   ]
  },
  {
   "cell_type": "code",
   "execution_count": 36,
   "id": "a26a17b7",
   "metadata": {},
   "outputs": [
    {
     "name": "stdout",
     "output_type": "stream",
     "text": [
      "[2, 23, 76, 927, 32, 99]\n",
      "Enter 'N' largest elements from a list :3\n",
      "1 - largest is 927\n",
      "2 - largest is 99\n",
      "3 - largest is 76\n"
     ]
    }
   ],
   "source": [
    "#Q84. Write a Python program to find N largest element from a list.\n",
    "\n",
    "list1=[2,23,76,927,32,99]\n",
    "print(list1)\n",
    "list1.sort(reverse=True)\n",
    "num=int(input(\"Enter 'N' largest elements from a list :\"))\n",
    "for i in range(0,num):\n",
    "    print(\"{} - largest is {}\".format(i+1,list1[i]))"
   ]
  },
  {
   "cell_type": "code",
   "execution_count": 37,
   "id": "c788b0c1",
   "metadata": {},
   "outputs": [
    {
     "name": "stdout",
     "output_type": "stream",
     "text": [
      "[2, 6, 14, 15, 18]\n"
     ]
    }
   ],
   "source": [
    "#Q85. Write a Python program to find cumulative sum of a list.\n",
    "\n",
    "list1=[2,4,8,1,3]\n",
    "sum=0\n",
    "new_list=[]\n",
    "for i in list1:\n",
    "    sum=sum+i\n",
    "    new_list.append(sum)\n",
    "print(new_list)"
   ]
  },
  {
   "cell_type": "code",
   "execution_count": 38,
   "id": "63abe75f",
   "metadata": {},
   "outputs": [
    {
     "name": "stdout",
     "output_type": "stream",
     "text": [
      "radar is a palindrome\n",
      "gate is not a palindrome\n"
     ]
    }
   ],
   "source": [
    "#Q86. Write a Python program to check if a string is palindrome or not.\n",
    "\n",
    "def palindrome(str1):\n",
    "    if str1==str1[::-1]:\n",
    "        print(str1,\"is a palindrome\")\n",
    "    else:\n",
    "        print(str1,\"is not a palindrome\")\n",
    "str1=\"radar\"\n",
    "str2=\"gate\"\n",
    "palindrome(str1)\n",
    "palindrome(str2)"
   ]
  },
  {
   "cell_type": "code",
   "execution_count": 39,
   "id": "5eda3aae",
   "metadata": {},
   "outputs": [
    {
     "name": "stdout",
     "output_type": "stream",
     "text": [
      "Enter a number to remove ith element of a string : 4\n",
      "Before removing a string: Transform\n",
      "After removing a string: Trasform\n"
     ]
    }
   ],
   "source": [
    "#Q87. Write a Python program to remove i'th element from a string.\n",
    "\n",
    "def remove(str1,pos):\n",
    "    \n",
    "    length_str1=len(str1)\n",
    "    if pos<length_str1:\n",
    "        print(\"Before removing a string:\",str1)\n",
    "        for i in range(length_str1):\n",
    "            if str1[i]==str1[pos-1]:\n",
    "                new=str1.replace(str1[i],'')\n",
    "        print(\"After removing a string:\",new)\n",
    "    else:\n",
    "        print(\"Range should not exceed {}\".format(length_str1))\n",
    "    \n",
    "str1=\"Transform\"\n",
    "pos=int(input(\"Enter a number to remove ith element of a string : \"))\n",
    "remove(str1,pos)"
   ]
  },
  {
   "cell_type": "code",
   "execution_count": 40,
   "id": "231731fb",
   "metadata": {},
   "outputs": [
    {
     "name": "stdout",
     "output_type": "stream",
     "text": [
      "substring is present in the given string.\n"
     ]
    }
   ],
   "source": [
    "#Q88. Write a Python program to check if a substring is present in a given string.\n",
    "\n",
    "str1=\"Strings are immutable in python\"\n",
    "if \"immutable\" in str1:\n",
    "    print(\"substring is present in the given string.\")\n",
    "else:\n",
    "    print(\"substring is not present in the given string.\")"
   ]
  },
  {
   "cell_type": "code",
   "execution_count": 41,
   "id": "95a4075f",
   "metadata": {},
   "outputs": [
    {
     "name": "stdout",
     "output_type": "stream",
     "text": [
      "List\n",
      "data\n",
      "type\n",
      "mutable\n",
      "python\n"
     ]
    }
   ],
   "source": [
    "#Q89. Write a Python program to find words which are greater than given length k.\n",
    "\n",
    "str1=\"List data type is mutable in python\"\n",
    "new_str=str1.split()\n",
    "k=3\n",
    "for i in new_str:\n",
    "    length=len(i)\n",
    "    if length>k:\n",
    "        print(i)"
   ]
  },
  {
   "cell_type": "code",
   "execution_count": 42,
   "id": "2f901f49",
   "metadata": {},
   "outputs": [
    {
     "name": "stdout",
     "output_type": "stream",
     "text": [
      "{'door', 'book', 'gun', 'bag'}\n"
     ]
    }
   ],
   "source": [
    "#Q90. Write a Python program to extract unquire dictionary values.\n",
    "\n",
    "dict={1:\"book\",2:\"door\",3:\"bag\",4:\"book\",5:\"gun\",6:\"bag\"}\n",
    "print(set(dict.values()))"
   ]
  },
  {
   "cell_type": "code",
   "execution_count": 43,
   "id": "c138150d",
   "metadata": {},
   "outputs": [
    {
     "name": "stdout",
     "output_type": "stream",
     "text": [
      "{1: 'book', 2: 'door', 3: 'bag', 5: 'kite', 6: 'dog'}\n"
     ]
    }
   ],
   "source": [
    "#Q91. Write a Python program to merge two dictionary.\n",
    "\n",
    "dict1={1:\"book\",2:\"door\",3:\"bag\"}\n",
    "dict2={5:\"kite\",6:\"dog\"}\n",
    "dict1.update(dict2)\n",
    "print(dict1)"
   ]
  },
  {
   "cell_type": "code",
   "execution_count": 56,
   "id": "fe12d08f",
   "metadata": {},
   "outputs": [
    {
     "name": "stdout",
     "output_type": "stream",
     "text": [
      "{'Sachin': [10], 'MSD': [7], 'Kohli': [18], 'Rohit': [45]}\n"
     ]
    }
   ],
   "source": [
    "#Q92. Write a Python program to convert a list of tuples into dictionary.\n",
    "#Input : [('Sachin', 10), ('MSD', 7), ('Kohli', 18), ('Rohit', 45)]\n",
    "#Output : {'Sachin': 10, 'MSD': 7, 'Kohli': 18, 'Rohit': 45}\n",
    "\n",
    "Input = [('Sachin', 10), ('MSD', 7), ('Kohli', 18), ('Rohit', 45)]\n",
    "result = {}\n",
    "for (key, value) in tuples:\n",
    "   result.setdefault(key, []).append(value)\n",
    "print(result)"
   ]
  },
  {
   "cell_type": "code",
   "execution_count": 57,
   "id": "6b2f4f99",
   "metadata": {},
   "outputs": [
    {
     "name": "stdout",
     "output_type": "stream",
     "text": [
      "[(9, 729), (5, 125), (6, 216)]\n"
     ]
    }
   ],
   "source": [
    "#Q93. Write a Python program to create a list of tuples from given list having number and its cube in each tuple.\n",
    "\n",
    "#Input: list = [9, 5, 6]\n",
    "#Output: [(9, 729), (5, 125), (6, 216)]\n",
    "\n",
    "list_1 = [9, 5, 6]\n",
    "tuple_1=()\n",
    "list_2=[]\n",
    "for i in list_1:\n",
    "    x=i**3  \n",
    "    tuple_1=(i,) + (x,)    \n",
    "    list_2.append(tuple_1)\n",
    "    \n",
    "print(list_2)"
   ]
  },
  {
   "cell_type": "code",
   "execution_count": 58,
   "id": "1602ad84",
   "metadata": {},
   "outputs": [
    {
     "name": "stdout",
     "output_type": "stream",
     "text": [
      "[(7, 7), (7, 8), (2, 7), (2, 8), (7, 7), (7, 2), (8, 7), (8, 2)]\n"
     ]
    }
   ],
   "source": [
    "# Q94. Write a Python program to get all combinations of 2 tuples.\n",
    "# Input : test_tuple1 = (7, 2), test_tuple2 = (7, 8)\n",
    "# Output : [(7, 7), (7, 8), (2, 7), (2, 8), (7, 7), (7, 2), (8, 7), (8, 2)]\n",
    "\n",
    "\n",
    "test_tuple1 = (7, 2)\n",
    "test_tuple2 = (7, 8)\n",
    "tuple_1=()\n",
    "list_1=[]\n",
    "tuple_2=()\n",
    "list_2=[]\n",
    "for i in test_tuple1:\n",
    "    for j in test_tuple2:\n",
    "        tuple_1=(i,) +(j,)\n",
    "        list_1.append(tuple_1)\n",
    "\n",
    "\n",
    "for k in test_tuple2:\n",
    "    for l in test_tuple1:\n",
    "        tuple_2=(k,) +(l,)\n",
    "        list_2.append(tuple_2)\n",
    "\n",
    "print(list_1+list_2)"
   ]
  },
  {
   "cell_type": "code",
   "execution_count": 59,
   "id": "58e7342f",
   "metadata": {},
   "outputs": [
    {
     "name": "stdout",
     "output_type": "stream",
     "text": [
      "Input : [('for', 24), ('Geeks', 8), ('Geeks', 30)]\n",
      "Output: [('Geeks', 8), ('for', 24), ('Geeks', 30)]\n"
     ]
    }
   ],
   "source": [
    "# Q95. Write a Python program to sort a list of tuples by second item.\n",
    "\n",
    "# Input : [('for', 24), ('Geeks', 8), ('Geeks', 30)] \n",
    "# Output : [('Geeks', 8), ('for', 24), ('Geeks', 30)]\n",
    "\n",
    "Input = [('for', 24), ('Geeks', 8), ('Geeks', 30)]\n",
    "print(\"Input :\" ,Input)\n",
    "new_sort = sorted(Input, key=lambda tup: tup[1])\n",
    "print(\"Output:\" ,new_sort)"
   ]
  },
  {
   "cell_type": "code",
   "execution_count": 60,
   "id": "b7101b83",
   "metadata": {},
   "outputs": [
    {
     "name": "stdout",
     "output_type": "stream",
     "text": [
      "* \n",
      "* * \n",
      "* * * \n",
      "* * * * \n",
      "* * * * * \n"
     ]
    }
   ],
   "source": [
    "# Q96. Write a python program to print below pattern.\n",
    "# * \n",
    "# * * \n",
    "# * * * \n",
    "# * * * * \n",
    "# * * * * * \n",
    "\n",
    "\n",
    "for i in range(5):\n",
    "    for j in range(i+1):\n",
    "        print(\"* \",end=\"\")\n",
    "    print(\"\")"
   ]
  },
  {
   "cell_type": "code",
   "execution_count": 61,
   "id": "550dd5f8",
   "metadata": {},
   "outputs": [
    {
     "name": "stdout",
     "output_type": "stream",
     "text": [
      "    *\n",
      "   **\n",
      "  ***\n",
      " ****\n",
      "*****\n"
     ]
    }
   ],
   "source": [
    "# Q97. Write a python program to print below pattern.\n",
    "#     *\n",
    "#    **\n",
    "#   ***\n",
    "#  ****\n",
    "# *****\n",
    "for i in range(5):\n",
    "    for j in range(1,5-i):\n",
    "        print(\" \",end=\"\")\n",
    "    for k in range(i+1):\n",
    "        print(\"*\",end=\"\")\n",
    "    print(\"\")"
   ]
  },
  {
   "cell_type": "code",
   "execution_count": 62,
   "id": "acb90a3d",
   "metadata": {},
   "outputs": [
    {
     "name": "stdout",
     "output_type": "stream",
     "text": [
      "    * \n",
      "   * * \n",
      "  * * * \n",
      " * * * * \n",
      "* * * * * \n"
     ]
    }
   ],
   "source": [
    "# Q98. Write a python program to print below pattern.\n",
    "\n",
    "#     * \n",
    "#    * * \n",
    "#   * * * \n",
    "#  * * * * \n",
    "# * * * * * \n",
    "#98\n",
    "for i in range(5):\n",
    "    for j in range(1,5-i):\n",
    "        print(\" \",end=\"\")\n",
    "    for k in range(i+1):\n",
    "        print(\"*\",end=\" \")\n",
    "    print(\"\")"
   ]
  },
  {
   "cell_type": "code",
   "execution_count": 63,
   "id": "d095c2d9",
   "metadata": {},
   "outputs": [
    {
     "name": "stdout",
     "output_type": "stream",
     "text": [
      "1 \n",
      "1 2 \n",
      "1 2 3 \n",
      "1 2 3 4 \n",
      "1 2 3 4 5 \n"
     ]
    }
   ],
   "source": [
    "# Q99. Write a python program to print below pattern.\n",
    "\n",
    "# 1 \n",
    "# 1 2 \n",
    "# 1 2 3 \n",
    "# 1 2 3 4 \n",
    "# 1 2 3 4 5\n",
    "for i in range(1,6):\n",
    "    for j in range(1,i+1):\n",
    "        print(j,end=\" \")\n",
    "    print(\"\")"
   ]
  },
  {
   "cell_type": "code",
   "execution_count": 64,
   "id": "3a784260",
   "metadata": {},
   "outputs": [
    {
     "name": "stdout",
     "output_type": "stream",
     "text": [
      "\n",
      "A \n",
      "B B \n",
      "C C C \n",
      "D D D D \n",
      "E E E E E \n"
     ]
    }
   ],
   "source": [
    "# Q100. Write a python program to print below pattern.\n",
    "\n",
    "# A \n",
    "# B B \n",
    "# C C C \n",
    "# D D D D \n",
    "# E E E E E \n",
    "count=0\n",
    "for i in range(6):\n",
    "    for j in range(i):\n",
    "        print(chr(64+count),end=\" \")\n",
    "    count=count+1\n",
    "    print(\"\")  "
   ]
  }
 ],
 "metadata": {
  "kernelspec": {
   "display_name": "Python 3 (ipykernel)",
   "language": "python",
   "name": "python3"
  },
  "language_info": {
   "codemirror_mode": {
    "name": "ipython",
    "version": 3
   },
   "file_extension": ".py",
   "mimetype": "text/x-python",
   "name": "python",
   "nbconvert_exporter": "python",
   "pygments_lexer": "ipython3",
   "version": "3.9.12"
  }
 },
 "nbformat": 4,
 "nbformat_minor": 5
}
